{
 "cells": [
  {
   "cell_type": "code",
   "execution_count": 12,
   "metadata": {},
   "outputs": [],
   "source": [
    "import pandas as pd \n",
    "df = pd.read_csv('AfroLatAmWebTestALL.csv')"
   ]
  },
  {
   "cell_type": "code",
   "execution_count": 13,
   "metadata": {},
   "outputs": [
    {
     "data": {
      "text/plain": [
       "Index(['ID;NAME;PREFIXES AS URL;INDEGREE;TOTAL KNOWN PAGES;CRAWLED PAGES;STATUS;LAST MODIFICATION DATE;\"ID',\n",
       "       'NAME\"\"', 'PREFIXES AS URL\"\"', 'INDEGREE\"\"', 'TOTAL KNOWN PAGES\"\"',\n",
       "       'CRAWLED PAGES\"\"', 'STATUS\"\"', 'LAST MODIFICATION DATE\"\"\"'],\n",
       "      dtype='object')"
      ]
     },
     "execution_count": 13,
     "metadata": {},
     "output_type": "execute_result"
    }
   ],
   "source": [
    "df.columns"
   ]
  },
  {
   "cell_type": "code",
   "execution_count": 19,
   "metadata": {},
   "outputs": [
    {
     "data": {
      "text/html": [
       "<div>\n",
       "<style scoped>\n",
       "    .dataframe tbody tr th:only-of-type {\n",
       "        vertical-align: middle;\n",
       "    }\n",
       "\n",
       "    .dataframe tbody tr th {\n",
       "        vertical-align: top;\n",
       "    }\n",
       "\n",
       "    .dataframe thead th {\n",
       "        text-align: right;\n",
       "    }\n",
       "</style>\n",
       "<table border=\"1\" class=\"dataframe\">\n",
       "  <thead>\n",
       "    <tr style=\"text-align: right;\">\n",
       "      <th></th>\n",
       "      <th>ID;NAME;PREFIXES AS URL;INDEGREE;TOTAL KNOWN PAGES;CRAWLED PAGES;STATUS;LAST MODIFICATION DATE;\"ID</th>\n",
       "      <th>NAME\"\"</th>\n",
       "      <th>PREFIXES AS URL\"\"</th>\n",
       "      <th>INDEGREE\"\"</th>\n",
       "      <th>TOTAL KNOWN PAGES\"\"</th>\n",
       "      <th>CRAWLED PAGES\"\"</th>\n",
       "      <th>STATUS\"\"</th>\n",
       "      <th>LAST MODIFICATION DATE\"\"\"</th>\n",
       "    </tr>\n",
       "  </thead>\n",
       "  <tbody>\n",
       "    <tr>\n",
       "      <th>count</th>\n",
       "      <td>1656</td>\n",
       "      <td>1656</td>\n",
       "      <td>1656</td>\n",
       "      <td>1656</td>\n",
       "      <td>1656</td>\n",
       "      <td>1656</td>\n",
       "      <td>1656</td>\n",
       "      <td>1656</td>\n",
       "    </tr>\n",
       "    <tr>\n",
       "      <th>unique</th>\n",
       "      <td>1656</td>\n",
       "      <td>1656</td>\n",
       "      <td>1656</td>\n",
       "      <td>4</td>\n",
       "      <td>48</td>\n",
       "      <td>6</td>\n",
       "      <td>4</td>\n",
       "      <td>549</td>\n",
       "    </tr>\n",
       "    <tr>\n",
       "      <th>top</th>\n",
       "      <td>784;Americaspolicy.org;http://americaspolicy.o...</td>\n",
       "      <td>Nsrc.org\"\"</td>\n",
       "      <td>http://negraflor.com http://www.negraflor.com ...</td>\n",
       "      <td>1\"\"</td>\n",
       "      <td>1\"\"</td>\n",
       "      <td>0\"\"</td>\n",
       "      <td>DISCOVERED\"\"</td>\n",
       "      <td>2019-10-03T09:25:53.212Z\"\"\"</td>\n",
       "    </tr>\n",
       "    <tr>\n",
       "      <th>freq</th>\n",
       "      <td>1</td>\n",
       "      <td>1</td>\n",
       "      <td>1</td>\n",
       "      <td>1561</td>\n",
       "      <td>1200</td>\n",
       "      <td>1651</td>\n",
       "      <td>1350</td>\n",
       "      <td>38</td>\n",
       "    </tr>\n",
       "  </tbody>\n",
       "</table>\n",
       "</div>"
      ],
      "text/plain": [
       "       ID;NAME;PREFIXES AS URL;INDEGREE;TOTAL KNOWN PAGES;CRAWLED PAGES;STATUS;LAST MODIFICATION DATE;\"ID  \\\n",
       "count                                                1656                                                   \n",
       "unique                                               1656                                                   \n",
       "top     784;Americaspolicy.org;http://americaspolicy.o...                                                   \n",
       "freq                                                    1                                                   \n",
       "\n",
       "            NAME\"\"                                  PREFIXES AS URL\"\"  \\\n",
       "count         1656                                               1656   \n",
       "unique        1656                                               1656   \n",
       "top     Nsrc.org\"\"  http://negraflor.com http://www.negraflor.com ...   \n",
       "freq             1                                                  1   \n",
       "\n",
       "       INDEGREE\"\" TOTAL KNOWN PAGES\"\" CRAWLED PAGES\"\"      STATUS\"\"  \\\n",
       "count        1656                1656            1656          1656   \n",
       "unique          4                  48               6             4   \n",
       "top           1\"\"                 1\"\"             0\"\"  DISCOVERED\"\"   \n",
       "freq         1561                1200            1651          1350   \n",
       "\n",
       "          LAST MODIFICATION DATE\"\"\"  \n",
       "count                          1656  \n",
       "unique                          549  \n",
       "top     2019-10-03T09:25:53.212Z\"\"\"  \n",
       "freq                             38  "
      ]
     },
     "execution_count": 19,
     "metadata": {},
     "output_type": "execute_result"
    }
   ],
   "source": [
    "df.describe()"
   ]
  }
 ],
 "metadata": {
  "kernelspec": {
   "display_name": "Python 3",
   "language": "python",
   "name": "python3"
  },
  "language_info": {
   "codemirror_mode": {
    "name": "ipython",
    "version": 3
   },
   "file_extension": ".py",
   "mimetype": "text/x-python",
   "name": "python",
   "nbconvert_exporter": "python",
   "pygments_lexer": "ipython3",
   "version": "3.7.3"
  }
 },
 "nbformat": 4,
 "nbformat_minor": 2
}
